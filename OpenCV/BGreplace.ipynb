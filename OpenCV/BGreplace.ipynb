{
 "cells": [
  {
   "cell_type": "code",
   "execution_count": 5,
   "metadata": {},
   "outputs": [],
   "source": [
    "import cv2\n",
    "# import cvzone\n",
    "# from cvzone.SelfiSegmentationModule import SelfiSegmentation\n",
    "import os"
   ]
  },
  {
   "cell_type": "code",
   "execution_count": 6,
   "metadata": {},
   "outputs": [],
   "source": [
    "cap = cv2.VideoCapture(0)\n",
    "cap.set(3, 640)\n",
    "cap.set(4, 480)\n",
    "dimension = (640,480)\n",
    "# cap.set(cv2.CAP_PROP_FPS, 60)\n",
    "\n",
    "segmentor = SelfiSegmentation()\n",
    "fpsReader = cvzone.FPS()\n",
    "\n",
    "# imgBG = cv2.imread(\"BackgroundImages/3.jpg\")\n",
    "\n",
    "listImg = os.listdir(\"BackgroundImages\")\n",
    "imgList = []\n",
    "for imgPath in listImg:\n",
    "    img = cv2.imread(f'BackgroundImages/{imgPath}')\n",
    "    resized = cv2.resize(img, dimension, interpolation = cv2.INTER_LINEAR)\n",
    "    imgList.append(resized)\n",
    "\n",
    "indexImg = 0"
   ]
  },
  {
   "cell_type": "code",
   "execution_count": 7,
   "metadata": {},
   "outputs": [],
   "source": [
    "while True:\n",
    "    success, img = cap.read()\n",
    "    # imgOut = segmentor.removeBG(img, (255,0,255), threshold=0.83)\n",
    "    imgOut = segmentor.removeBG(img, imgList[indexImg], threshold=0.8)\n",
    "    # Flip the scene captured by webcam\n",
    "    imgOut = cv2.flip(imgOut, 1)\n",
    "\n",
    "    # imgStack = cvzone.stackImages([img, imgOut], 2,1)\n",
    "    # _, imgStack = fpsReader.update(imgStack)\n",
    "    # print(indexImg)\n",
    "\n",
    "    # Add oil painting effect\n",
    "    # effect = cv2.xphoto.oilPainting(imgStack, 7, 1)\n",
    "    effect = cv2.xphoto.oilPainting(imgOut, 7, 1)\n",
    "\n",
    "    cv2.imshow(\"image\", effect)\n",
    "\n",
    "    # Change background using 'a' and 'd'. \n",
    "    # Quit the program using Enter key. \n",
    "    key = cv2.waitKey(1)\n",
    "    if key == ord('a'):\n",
    "        if indexImg>0:\n",
    "            indexImg -=1\n",
    "    elif key == ord('d'):\n",
    "        if indexImg<len(imgList)-1:\n",
    "            indexImg +=1\n",
    "    elif key == 13: # 13 is the Enter Key: press Enter key to exit the window:\n",
    "        break\n",
    "\n",
    "# Release the camera when this program ends\n",
    "cap.release()\n",
    "cv2.destroyAllWindows()"
   ]
  },
  {
   "cell_type": "code",
   "execution_count": 8,
   "metadata": {},
   "outputs": [],
   "source": [
    "cap.release()\n",
    "cv2.destroyAllWindows()"
   ]
  }
 ],
 "metadata": {
  "kernelspec": {
   "display_name": "Python 3.9.13 ('cv')",
   "language": "python",
   "name": "python3"
  },
  "language_info": {
   "codemirror_mode": {
    "name": "ipython",
    "version": 3
   },
   "file_extension": ".py",
   "mimetype": "text/x-python",
   "name": "python",
   "nbconvert_exporter": "python",
   "pygments_lexer": "ipython3",
   "version": "3.9.13"
  },
  "orig_nbformat": 4,
  "vscode": {
   "interpreter": {
    "hash": "65983197355c00458ff586c676d09e9a97a80d71bf035fbcad3f09d472946797"
   }
  }
 },
 "nbformat": 4,
 "nbformat_minor": 2
}
